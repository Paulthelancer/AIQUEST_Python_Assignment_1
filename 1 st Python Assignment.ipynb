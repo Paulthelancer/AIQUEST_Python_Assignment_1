{
 "cells": [
  {
   "cell_type": "markdown",
   "id": "4590bf67-19d8-47b3-866f-08afa364804e",
   "metadata": {},
   "source": [
    "# 1. Take values of the length & breadth of a rectangle from user input and check if it is square or not."
   ]
  },
  {
   "cell_type": "code",
   "execution_count": 7,
   "id": "68d7cb6b-2f28-4368-8ac1-3f8b0e6a27f5",
   "metadata": {
    "tags": []
   },
   "outputs": [
    {
     "name": "stdin",
     "output_type": "stream",
     "text": [
      "Enter the Length of the Rectnegle:  2\n",
      "Enter the Length of the Rectnegle:  1\n"
     ]
    },
    {
     "name": "stdout",
     "output_type": "stream",
     "text": [
      "\n",
      "Its not a Square\n"
     ]
    }
   ],
   "source": [
    "l=input(\"Enter the Length of the Rectnegle: \")\n",
    "b=input(\"Enter the Length of the Rectnegle: \")\n",
    "if l==b:\n",
    "    print(\"\\nIts a Square\")\n",
    "else:\n",
    "    print(\"\\nIts not a Square\")"
   ]
  },
  {
   "cell_type": "markdown",
   "id": "f2d0cec3-d483-4cfa-8ab7-f26d4e787479",
   "metadata": {},
   "source": [
    "# 2. Take three integer values from the user and print the greatest among them."
   ]
  },
  {
   "cell_type": "code",
   "execution_count": 12,
   "id": "7636792a-c6d7-4cf9-b2b5-a16319efb484",
   "metadata": {
    "tags": []
   },
   "outputs": [
    {
     "name": "stdin",
     "output_type": "stream",
     "text": [
      "Please Enter an Integer 5\n",
      "Please Enter an Integer 25\n",
      "Please Enter an Integer -99\n"
     ]
    },
    {
     "name": "stdout",
     "output_type": "stream",
     "text": [
      "The Highest integer is: 25\n"
     ]
    }
   ],
   "source": [
    "mylist=[]\n",
    "for i in range(0,3):\n",
    "    k=int(input(\"Please Enter an Integer\"))\n",
    "    mylist.append(k)\n",
    "print(\"\\nThe Highest integer is:\",max(mylist))"
   ]
  },
  {
   "cell_type": "markdown",
   "id": "b47ad744-cc7c-4d96-a8ee-856c955dc301",
   "metadata": {},
   "source": [
    "# 3.A student will not be allowed to sit in an exam if his/her attendance is less than 75%."
   ]
  },
  {
   "cell_type": "code",
   "execution_count": 17,
   "id": "de6f76d1-d4bc-4e58-ba4c-88fb3ad5dc73",
   "metadata": {
    "tags": []
   },
   "outputs": [
    {
     "name": "stdin",
     "output_type": "stream",
     "text": [
      "Number of Total Callses in this Semester?:  25\n",
      "How many Classes did you attend:  19\n"
     ]
    },
    {
     "name": "stdout",
     "output_type": "stream",
     "text": [
      "You are Good, Your Attendance is:76.0%\n"
     ]
    }
   ],
   "source": [
    "Class_count=int(input(\"Number of Total Callses in this Semester?: \"))\n",
    "attendance=int(input(\"How many Classes did you attend: \"))\n",
    "\n",
    "if (attendance/Class_count)<0.75:\n",
    "    print(f\"\\nSorry You are not Allowed to Sit in the Exam, Your Attendance is: {(attendance/Class_count)*100}%\")\n",
    "else:\n",
    "    print(f\"\\nYou are Good, Your Attendance is:{(attendance/Class_count)*100}%\")"
   ]
  },
  {
   "cell_type": "markdown",
   "id": "8c654c1e-af10-487d-bb9c-183bc3ed9fe4",
   "metadata": {},
   "source": [
    "# 4. A school has the following rules for the grading system:\n",
    "**Below 25 – F, 25 to 44 – E, 45 to 49 – D, 50 to 59 – C, 60 to 79 – B, 80 to 89 - A, Above 90 - A+\n",
    "Now, Ask the user to enter marks and print the corresponding grade.**"
   ]
  },
  {
   "cell_type": "code",
   "execution_count": 35,
   "id": "4e4b6760-a262-4907-88f2-625acd3fc38a",
   "metadata": {
    "tags": []
   },
   "outputs": [
    {
     "name": "stdin",
     "output_type": "stream",
     "text": [
      "Enter Your Marks:  99\n"
     ]
    },
    {
     "name": "stdout",
     "output_type": "stream",
     "text": [
      "Your Grade is: 'A+'\n"
     ]
    }
   ],
   "source": [
    "grade=int(input(\"Enter Your Marks: \"))\n",
    "if grade<25:\n",
    "    print(\"Your Have Failed, Your Grade is: 'F'\")\n",
    "elif grade>=25 and grade<=44:\n",
    "    print(\"Your Grade is: 'E'\")\n",
    "elif grade>=44 and grade<=49:\n",
    "    print(\"Your Grade is: 'D'\")\n",
    "elif grade>=50 and grade <=59:\n",
    "    print(\"Your Grade is: 'C'\")\n",
    "elif grade>=60 and grade <=79:\n",
    "    print(\"Your Grade is: 'B'\")\n",
    "elif grade>=80 and grade <=89:\n",
    "    print(\"Your Grade is: 'A'\")\n",
    "else:\n",
    "    print(\"Your Grade is: 'A+'\")"
   ]
  },
  {
   "cell_type": "markdown",
   "id": "6e8f38c8-428a-4a5e-b0d7-b63f9a33335d",
   "metadata": {
    "tags": []
   },
   "source": [
    "# Loop Problem"
   ]
  },
  {
   "cell_type": "markdown",
   "id": "df897cfb-bbbe-4b51-a425-e447d3d4925b",
   "metadata": {},
   "source": [
    "**5.Print the following pattern using for and while loop.**\n",
    "\n",
    "1 2 3 4 5 6 7\n",
    "\n",
    "1 2 3 4 5 6\n",
    "\n",
    "1 2 3 4 5\n",
    "\n",
    "1 2 3 4"
   ]
  },
  {
   "cell_type": "code",
   "execution_count": 49,
   "id": "3aa80070-48aa-4e8d-8fc0-55a9a62cac41",
   "metadata": {
    "tags": []
   },
   "outputs": [
    {
     "name": "stdout",
     "output_type": "stream",
     "text": [
      "1234567\n",
      "\n",
      "123456\n",
      "\n",
      "12345\n",
      "\n",
      "1234\n",
      "\n"
     ]
    }
   ],
   "source": [
    "k=[1,2,3,4,5,6,7]\n",
    "for l in range (4):\n",
    "    for i in k:\n",
    "        print(i,end=\"\")\n",
    "    print(\"\\n\")    \n",
    "    k.pop()\n",
    "    "
   ]
  },
  {
   "cell_type": "code",
   "execution_count": 47,
   "id": "f9dfbf6e-2502-4a9e-8a6f-54449719c515",
   "metadata": {
    "tags": []
   },
   "outputs": [
    {
     "name": "stdout",
     "output_type": "stream",
     "text": [
      "1234567\n",
      "\n",
      "123456\n",
      "\n",
      "12345\n",
      "\n",
      "1234\n",
      "\n"
     ]
    }
   ],
   "source": [
    "k=[1,2,3,4,5,6,7]\n",
    "l=0\n",
    "while l<4 :\n",
    "    for i in k:\n",
    "        print(i,end=\"\")\n",
    "    print(\"\\n\")    \n",
    "    k.pop()\n",
    "    l+=1"
   ]
  },
  {
   "cell_type": "markdown",
   "id": "4411b801-55e4-4044-9f36-c8a96f992550",
   "metadata": {
    "tags": []
   },
   "source": [
    "# 6. Display numbers from -100 to -10 using for loop"
   ]
  },
  {
   "cell_type": "code",
   "execution_count": 50,
   "id": "87a71961-02b8-4442-86ef-36c37bb544aa",
   "metadata": {
    "tags": []
   },
   "outputs": [
    {
     "name": "stdout",
     "output_type": "stream",
     "text": [
      "-100\n",
      "-99\n",
      "-98\n",
      "-97\n",
      "-96\n",
      "-95\n",
      "-94\n",
      "-93\n",
      "-92\n",
      "-91\n",
      "-90\n",
      "-89\n",
      "-88\n",
      "-87\n",
      "-86\n",
      "-85\n",
      "-84\n",
      "-83\n",
      "-82\n",
      "-81\n",
      "-80\n",
      "-79\n",
      "-78\n",
      "-77\n",
      "-76\n",
      "-75\n",
      "-74\n",
      "-73\n",
      "-72\n",
      "-71\n",
      "-70\n",
      "-69\n",
      "-68\n",
      "-67\n",
      "-66\n",
      "-65\n",
      "-64\n",
      "-63\n",
      "-62\n",
      "-61\n",
      "-60\n",
      "-59\n",
      "-58\n",
      "-57\n",
      "-56\n",
      "-55\n",
      "-54\n",
      "-53\n",
      "-52\n",
      "-51\n",
      "-50\n",
      "-49\n",
      "-48\n",
      "-47\n",
      "-46\n",
      "-45\n",
      "-44\n",
      "-43\n",
      "-42\n",
      "-41\n",
      "-40\n",
      "-39\n",
      "-38\n",
      "-37\n",
      "-36\n",
      "-35\n",
      "-34\n",
      "-33\n",
      "-32\n",
      "-31\n",
      "-30\n",
      "-29\n",
      "-28\n",
      "-27\n",
      "-26\n",
      "-25\n",
      "-24\n",
      "-23\n",
      "-22\n",
      "-21\n",
      "-20\n",
      "-19\n",
      "-18\n",
      "-17\n",
      "-16\n",
      "-15\n",
      "-14\n",
      "-13\n",
      "-12\n",
      "-11\n",
      "-10\n"
     ]
    }
   ],
   "source": [
    "for i in range (-100,-9):\n",
    "    print(i)"
   ]
  },
  {
   "cell_type": "markdown",
   "id": "bd51a3c9-3940-47de-bd15-0312f37a13de",
   "metadata": {
    "tags": []
   },
   "source": [
    "# 7. Write a program to sum all prime numbers within a range of 10 to 1000."
   ]
  },
  {
   "cell_type": "code",
   "execution_count": 77,
   "id": "0c0d1648-b81e-4138-9375-73d4038f04fc",
   "metadata": {
    "tags": []
   },
   "outputs": [
    {
     "name": "stdout",
     "output_type": "stream",
     "text": [
      "76110\n"
     ]
    }
   ],
   "source": [
    "sum=0\n",
    "def isprime(num):\n",
    "    import math\n",
    "    dmy=math.ceil(math.sqrt(num))\n",
    "    dmy2=0\n",
    "    for i in range (2,dmy+1):\n",
    "        if num%i==0:\n",
    "            dmy2+=1\n",
    "    if dmy2>0:\n",
    "        return False\n",
    "    elif num==1:\n",
    "        return False\n",
    "    else:\n",
    "        return True\n",
    "for i in range (10,1001):\n",
    "    if isprime(i)==True:\n",
    "        #print(i)\n",
    "        sum+=i\n",
    "print(sum)"
   ]
  },
  {
   "cell_type": "markdown",
   "id": "75ba75da-1df9-4199-b028-42d8e5bcc821",
   "metadata": {},
   "source": [
    "# 8.Find the factorial of an n! (Hint, n=7: 7*6*5*4*3*2*1)."
   ]
  },
  {
   "cell_type": "code",
   "execution_count": 80,
   "id": "8386c31c-37f1-446e-be87-93410c7383c0",
   "metadata": {
    "tags": []
   },
   "outputs": [
    {
     "name": "stdout",
     "output_type": "stream",
     "text": [
      "5040\n"
     ]
    }
   ],
   "source": [
    "def factorials(n):\n",
    "    fact_value=1\n",
    "    for i in range (1,(n+1)):\n",
    "        fact_value*=i\n",
    "    return fact_value\n",
    "print(factorials(7))"
   ]
  },
  {
   "cell_type": "markdown",
   "id": "4bc2301f-f236-4d12-a450-b0c8393f88ee",
   "metadata": {},
   "source": [
    "# 9. Reverse a given integer number 27956240710."
   ]
  },
  {
   "cell_type": "code",
   "execution_count": 81,
   "id": "cf4a3737-57e8-4a1e-af67-0826ee52c235",
   "metadata": {
    "tags": []
   },
   "outputs": [
    {
     "name": "stdin",
     "output_type": "stream",
     "text": [
      "Enter an Integer number of any length: 01236912584\n"
     ]
    },
    {
     "name": "stdout",
     "output_type": "stream",
     "text": [
      "48521963210\n"
     ]
    }
   ],
   "source": [
    "num = input(\"Enter an Integer number of any length:\")\n",
    "print(str(num)[::-1])"
   ]
  },
  {
   "cell_type": "markdown",
   "id": "b9cc5126-278d-4d8e-aa8b-aa0bae13a256",
   "metadata": {},
   "source": [
    "# 10. Print the following pattern using for and while loop."
   ]
  },
  {
   "cell_type": "code",
   "execution_count": 1,
   "id": "acf2c5f1-2a63-4baf-a51b-73748d68be1a",
   "metadata": {},
   "outputs": [
    {
     "name": "stdout",
     "output_type": "stream",
     "text": [
      "# # #\n",
      "# # # #\n",
      "# # #\n",
      "# #\n"
     ]
    }
   ],
   "source": [
    "k=[]\n",
    "l=[3,4,3,2]\n",
    "for i in l:\n",
    "    for x in range (0,i):\n",
    "        k.append(\"#\")\n",
    "    print(*k)\n",
    "    k=[]"
   ]
  },
  {
   "cell_type": "markdown",
   "id": "477e32cf-138b-48ce-9c3e-7808b4941a66",
   "metadata": {},
   "source": [
    "# 11. Display the Fibonacci series of 15 elements using the for and while loop."
   ]
  },
  {
   "cell_type": "code",
   "execution_count": 7,
   "id": "ae254716-f9b0-42ed-a202-4b686dac5e40",
   "metadata": {
    "tags": []
   },
   "outputs": [
    {
     "name": "stdout",
     "output_type": "stream",
     "text": [
      "0\n",
      "1\n",
      "1\n",
      "2\n",
      "3\n",
      "5\n",
      "8\n",
      "13\n",
      "21\n",
      "34\n",
      "55\n",
      "89\n",
      "144\n",
      "233\n",
      "377\n"
     ]
    }
   ],
   "source": [
    "last=0\n",
    "now=1\n",
    "next_el=0\n",
    "print(last)\n",
    "#For Loop\n",
    "for i in range (1,15):\n",
    "    next_el=last+now\n",
    "    print(now)\n",
    "    last=now\n",
    "    now=next_el    "
   ]
  },
  {
   "cell_type": "code",
   "execution_count": 10,
   "id": "c91ced3f-5215-4173-836e-693e9489ee43",
   "metadata": {
    "tags": []
   },
   "outputs": [
    {
     "name": "stdout",
     "output_type": "stream",
     "text": [
      "0\n",
      "1\n",
      "1\n",
      "2\n",
      "3\n",
      "5\n",
      "8\n",
      "13\n",
      "21\n",
      "34\n",
      "55\n",
      "89\n",
      "144\n",
      "233\n",
      "377\n"
     ]
    }
   ],
   "source": [
    "last=0\n",
    "now=1\n",
    "next_el=0\n",
    "print(last)\n",
    "#While Loop\n",
    "i=0\n",
    "while i<14:\n",
    "    next_el=last+now\n",
    "    print(now)\n",
    "    last=now\n",
    "    now=next_el    \n",
    "    i+=1"
   ]
  },
  {
   "cell_type": "markdown",
   "id": "6409d011-32b9-425d-888a-b5591307ba06",
   "metadata": {},
   "source": [
    "# 12. Remove 2 and add 3 to the list and replace True with False.\n",
    "Li = [1,3,5, [2,3], True]"
   ]
  },
  {
   "cell_type": "code",
   "execution_count": 17,
   "id": "8569e4ea-afcb-44c4-94f7-ca4fcc67542e",
   "metadata": {
    "tags": []
   },
   "outputs": [
    {
     "name": "stdout",
     "output_type": "stream",
     "text": [
      "[1, 3, 5, [3, 3], False]\n"
     ]
    }
   ],
   "source": [
    "Li = [1,3,5, [2,3], True]\n",
    "Li[3][0]=3\n",
    "Li[-1]=False\n",
    "print(Li)"
   ]
  },
  {
   "cell_type": "markdown",
   "id": "be049302-91f4-46e6-823e-6995522e7cbb",
   "metadata": {},
   "source": [
    "# 13. Find the intersection (common) of two sets.\n",
    "S1 = {1,4,6,8}\n",
    "S2 = {True, 1,2,10}"
   ]
  },
  {
   "cell_type": "code",
   "execution_count": 23,
   "id": "bbc5dab2-e5ca-48af-8557-d69ffbbbbf58",
   "metadata": {
    "tags": []
   },
   "outputs": [
    {
     "name": "stdout",
     "output_type": "stream",
     "text": [
      "{1}\n"
     ]
    }
   ],
   "source": [
    "S1 = {1,4,6,8}\n",
    "S2 = {'True',1,2,10}#True in boolean also represents 1 , so to avoid redundancy Truth is tempered :p\n",
    "print(S1.intersection(S2))"
   ]
  },
  {
   "cell_type": "markdown",
   "id": "fe9593b6-ab27-48f6-a3e3-3ee555c0234b",
   "metadata": {},
   "source": [
    "# 14. Input a list from the user then Remove duplicates from a list and create a set and find the max\n",
    "number. User_input = [1,9,3,4,5,200,54]"
   ]
  },
  {
   "cell_type": "code",
   "execution_count": 3,
   "id": "51bd1db9-f9e6-42a5-9d45-2b1af5ab5239",
   "metadata": {
    "tags": []
   },
   "outputs": [
    {
     "name": "stdin",
     "output_type": "stream",
     "text": [
      "Enter elements of a list separated by space  1 2 88 3 85 42 99 57 1 5\n"
     ]
    },
    {
     "name": "stdout",
     "output_type": "stream",
     "text": [
      "\n",
      "\n",
      "['1', '2', '88', '3', '85', '42', '99', '57', '1', '5']\n",
      "{'3', '88', '2', '42', '57', '1', '85', '99', '5'}\n",
      "99\n"
     ]
    }
   ],
   "source": [
    "input_string = input('Enter elements of a list separated by space ')\n",
    "print(\"\\n\")\n",
    "user_list = input_string.split()\n",
    "print (user_list)\n",
    "k=set(user_list)\n",
    "user_list.sort()\n",
    "\n",
    "print(k)\n",
    "print(user_list[-1])"
   ]
  },
  {
   "cell_type": "markdown",
   "id": "c0e929ac-8d1c-48ac-aac6-e528e4292f2f",
   "metadata": {},
   "source": [
    "# 15.Rename the key of a dictionary."
   ]
  },
  {
   "cell_type": "code",
   "execution_count": 9,
   "id": "a764887a-7a3a-49b8-92b6-8e4047a17423",
   "metadata": {},
   "outputs": [
    {
     "name": "stdout",
     "output_type": "stream",
     "text": [
      "{'name': 'Shakil', 'age': 27, 'city': 'Berlin', 'Region': 'Germany'}\n"
     ]
    }
   ],
   "source": [
    "Dict = { \"name\": \"Shakil\", \"age\":27, \"city\": \"Berlin\", \"country\": \"Germany\" }\n",
    "Dict[\"Region\"]=Dict.pop(\"country\")\n",
    "print(Dict)"
   ]
  },
  {
   "cell_type": "markdown",
   "id": "d7e5738a-b6b3-4380-aad7-69efd7f7df37",
   "metadata": {},
   "source": [
    "# 16. Creating a data frame using the list."
   ]
  },
  {
   "cell_type": "code",
   "execution_count": 4,
   "id": "9c2545a9-e326-4293-b0e0-8b6239f8db3a",
   "metadata": {
    "tags": []
   },
   "outputs": [
    {
     "name": "stdout",
     "output_type": "stream",
     "text": [
      "   Number\n",
      "0      10\n",
      "1     100\n",
      "2     300\n"
     ]
    }
   ],
   "source": [
    "import pandas as pd\n",
    "columns=['Number']\n",
    "num = [10,100,300]\n",
    "df = pd.DataFrame(list(zip(num)),columns=columns)#Advantages of using list(zip()) is that it can take multiple list as column\n",
    "print(df)"
   ]
  },
  {
   "cell_type": "markdown",
   "id": "f9cf23f1-e5f8-42c2-8e12-8daa76dc069d",
   "metadata": {},
   "source": [
    "# 17. Change the value of a key in a given dictionary."
   ]
  },
  {
   "cell_type": "code",
   "execution_count": 10,
   "id": "82393335-334f-44c2-818c-65a3fea71f64",
   "metadata": {
    "tags": []
   },
   "outputs": [
    {
     "name": "stdout",
     "output_type": "stream",
     "text": [
      "{'name': 'Shakil', 'age': 28, 'city': 'Berlin', 'country': 'Germany'}\n"
     ]
    }
   ],
   "source": [
    "Dict = { \"name\": \"Shakil\", \"age\":27, \"city\": \"Berlin\", \"country\": \"Germany\" }\n",
    "Dict[\"age\"]=28\n",
    "print(Dict)"
   ]
  },
  {
   "cell_type": "code",
   "execution_count": null,
   "id": "339dbbf0-ea8e-406c-83a5-46d3907573c8",
   "metadata": {},
   "outputs": [],
   "source": []
  }
 ],
 "metadata": {
  "kernelspec": {
   "display_name": "Python 3 (ipykernel)",
   "language": "python",
   "name": "python3"
  },
  "language_info": {
   "codemirror_mode": {
    "name": "ipython",
    "version": 3
   },
   "file_extension": ".py",
   "mimetype": "text/x-python",
   "name": "python",
   "nbconvert_exporter": "python",
   "pygments_lexer": "ipython3",
   "version": "3.11.3"
  }
 },
 "nbformat": 4,
 "nbformat_minor": 5
}
